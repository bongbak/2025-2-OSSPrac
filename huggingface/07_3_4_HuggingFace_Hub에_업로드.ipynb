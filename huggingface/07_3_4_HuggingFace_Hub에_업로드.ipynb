{
  "cells": [
    {
      "cell_type": "markdown",
      "metadata": {
        "id": "3aIvyDfWbYOu"
      },
      "source": [
        "# 07-3-4 HuggingFace Hub에 업로드\n",
        "\n",
        "이 노트북은 **Hugging Face Hub**에 모델/데이터셋/Space를 업로드하는 전 과정을 Colab 기준으로 정리한 실습 파일입니다.\n",
        "\n",
        "> ⚠️ **중요**: 개인 **Access Token**은 외부에 노출하지 마세요. 공개 저장소에 절대 커밋 금지!"
      ],
      "id": "3aIvyDfWbYOu"
    },
    {
      "cell_type": "markdown",
      "metadata": {
        "id": "4OoOCO0qbYOv"
      },
      "source": [
        "## (1) Hugging Face 로그인"
      ],
      "id": "4OoOCO0qbYOv"
    },
    {
      "cell_type": "code",
      "execution_count": 1,
      "metadata": {
        "id": "9zlpwK1XbYOv"
      },
      "outputs": [],
      "source": [
        "# HF_TOKEN = \"hf_xxx_your_token\"\n",
        "\n",
        "from huggingface_hub import login\n",
        "login(token=HF_TOKEN)  # 본인 토큰으로 교체하세요"
      ],
      "id": "9zlpwK1XbYOv"
    },
    {
      "cell_type": "markdown",
      "metadata": {
        "id": "KvaueC8LbYOw"
      },
      "source": [
        "## (2) 모델 업로드\n",
        "\n",
        "### A. 새 모델 저장소 만들기 (CLI)"
      ],
      "id": "KvaueC8LbYOw"
    },
    {
      "cell_type": "code",
      "execution_count": 3,
      "metadata": {
        "colab": {
          "base_uri": "https://localhost:8080/"
        },
        "id": "yrX2fqF_bYOw",
        "outputId": "aeb95511-deaf-43d1-ccc2-99ddd5b467fe"
      },
      "outputs": [
        {
          "output_type": "stream",
          "name": "stdout",
          "text": [
            "usage: hf <command> [<args>]\n",
            "hf: error: unrecognized arguments: --type model\n"
          ]
        }
      ],
      "source": [
        "!hf repo create my-model --type model"
      ],
      "id": "yrX2fqF_bYOw"
    },
    {
      "cell_type": "markdown",
      "metadata": {
        "id": "_22qMMo2bYOw"
      },
      "source": [
        "### B. 로컬에 클론"
      ],
      "id": "_22qMMo2bYOw"
    },
    {
      "cell_type": "code",
      "execution_count": 4,
      "metadata": {
        "colab": {
          "base_uri": "https://localhost:8080/"
        },
        "id": "Wv_ceaPVbYOw",
        "outputId": "011f2830-2071-4cf6-84d7-418a984a3747"
      },
      "outputs": [
        {
          "output_type": "stream",
          "name": "stdout",
          "text": [
            "Cloning into 'my-model'...\n",
            "fatal: could not read Username for 'https://huggingface.co': No such device or address\n",
            "[Errno 2] No such file or directory: 'my-model'\n",
            "/content\n"
          ]
        }
      ],
      "source": [
        "!git clone https://huggingface.co/username/my-model\n",
        "%cd my-model"
      ],
      "id": "Wv_ceaPVbYOw"
    },
    {
      "cell_type": "markdown",
      "metadata": {
        "id": "sY0lEoNVbYOw"
      },
      "source": [
        "### C. 모델 파일 저장\n",
        "- 학습 완료된 모델 가중치(`pytorch_model.bin`, `config.json`, `tokenizer.json` 등)를 저장합니다.\n",
        "- `transformers` 모델이면 `save_pretrained()`로 한 번에 저장할 수 있습니다."
      ],
      "id": "sY0lEoNVbYOw"
    },
    {
      "cell_type": "code",
      "execution_count": 5,
      "metadata": {
        "colab": {
          "base_uri": "https://localhost:8080/",
          "height": 403,
          "referenced_widgets": [
            "52926eeb4aec44cab8e6fb3fdeb14ea1",
            "4f589a37dde64817b4c4f02e1794766c",
            "68d774b5f6894c6c895d2cb00d6965db",
            "8166631bbe47481490f57c22d05e9cac",
            "2dc82ef11d7a4a0b8b0addc9a98917e2",
            "887b45283798456e8bbeae53d3f47d4a",
            "72145b937d8c4386b1b5812744dec686",
            "52097d92286b4677a2384b7c0e8a865d",
            "f2cd1c478b564a58b63891c175852615",
            "e273f81491e145c6a9f5ffea51f1041d",
            "bbeb9f8c0b9c4afba332a0cd07a6f474",
            "92e21cfbf6964661901c0618155b2ac8",
            "b885151843944960ad8ce32cda172cea",
            "1733f79504a14f44883e9163528f56df",
            "9273ba8371d84ecb9322f0c1fd149050",
            "1fa906a65cf84d018b96a0829dd017a2",
            "842ad726314a4848b30556f31436b81f",
            "576010fc5c7648839a5a4eb0421ea910",
            "153b9a34c5bc4cfe9c49a9f8dc660861",
            "700ea932d7b44fb1aa1358b1bb986719",
            "4e1cdc8c927a4be5b11bb844f22c19be",
            "2173b0b8c0a446bc807caab491e741f8",
            "9bdcae3137594b55b9cf9c4e810697ac",
            "6ecd4eaddb8449c19923104804e58a8f",
            "65f5db8c4f9d4c9b8a3e751979b11027",
            "63a860ec2c7e486eb643cc2846176d54",
            "e6647cb3cd5c433b9e35f37982f83078",
            "da42aeebf9ca4abcacac4c0323e734c3",
            "2a7a3565fa8f46e385cc510ba4a5b832",
            "1f20ff326002403f848798645599f345",
            "67ebe9b526a54dcbb9d587e1141878da",
            "82a81994c2154a2d850584979c67457e",
            "703c8c1e5d43466cbb3167ec376d80f0",
            "6cfbac88dfcb49f9a412ba8d1eb45981",
            "fdec38351f7d4b4391a65745dd17a92e",
            "be1733c0e35749569d36b89d6669427c",
            "a97134ce863f4a0c8b5f3ea9881f8abc",
            "a7622fb0aca94b1ab4b5e5f062da2d72",
            "3a815e19f0434f51bde2109f1d2aed5d",
            "1f2629dc7d024acbb6029204da699a8f",
            "e843499171f148cc8f37a45e42095fdd",
            "60f7793ddf6642fcabe97954a7a34b07",
            "3787f7b6d8464438b839213934e6a044",
            "f2b4dccb0884421cb5c3d0a8566364f8",
            "a95b6d591f314f7488e15c84a9d5f405",
            "a67db268a96f42eaa569eb2f43045594",
            "219cd3ae90c74d0d993d2c4cc015093d",
            "c736cc8748694590ac976d4379277780",
            "860fc970190d4d58a275c65acf1e37c3",
            "66cec13b2d674713a14105a2648f44fa",
            "900e397263ce4fc386376925bdd085e3",
            "c5afb20c954d406a90fdebda9c45abe7",
            "4684ab3879bc4523b6e7b75e6f8146c5",
            "d455582bef6c4e10b50f6718a2c85569",
            "a9f3ef8d205b41708c155aaefaa837b6"
          ]
        },
        "id": "g_by2VDabYOx",
        "outputId": "dc866cff-de5b-45b3-97fc-a966fb189be9"
      },
      "outputs": [
        {
          "output_type": "stream",
          "name": "stderr",
          "text": [
            "/usr/local/lib/python3.12/dist-packages/huggingface_hub/utils/_auth.py:94: UserWarning: \n",
            "The secret `HF_TOKEN` does not exist in your Colab secrets.\n",
            "To authenticate with the Hugging Face Hub, create a token in your settings tab (https://huggingface.co/settings/tokens), set it as secret in your Google Colab and restart your session.\n",
            "You will be able to reuse this secret in all of your notebooks.\n",
            "Please note that authentication is recommended but still optional to access public models or datasets.\n",
            "  warnings.warn(\n"
          ]
        },
        {
          "output_type": "display_data",
          "data": {
            "text/plain": [
              "config.json:   0%|          | 0.00/483 [00:00<?, ?B/s]"
            ],
            "application/vnd.jupyter.widget-view+json": {
              "version_major": 2,
              "version_minor": 0,
              "model_id": "52926eeb4aec44cab8e6fb3fdeb14ea1"
            }
          },
          "metadata": {}
        },
        {
          "output_type": "display_data",
          "data": {
            "text/plain": [
              "model.safetensors:   0%|          | 0.00/268M [00:00<?, ?B/s]"
            ],
            "application/vnd.jupyter.widget-view+json": {
              "version_major": 2,
              "version_minor": 0,
              "model_id": "92e21cfbf6964661901c0618155b2ac8"
            }
          },
          "metadata": {}
        },
        {
          "output_type": "display_data",
          "data": {
            "text/plain": [
              "tokenizer_config.json:   0%|          | 0.00/48.0 [00:00<?, ?B/s]"
            ],
            "application/vnd.jupyter.widget-view+json": {
              "version_major": 2,
              "version_minor": 0,
              "model_id": "9bdcae3137594b55b9cf9c4e810697ac"
            }
          },
          "metadata": {}
        },
        {
          "output_type": "display_data",
          "data": {
            "text/plain": [
              "vocab.txt:   0%|          | 0.00/232k [00:00<?, ?B/s]"
            ],
            "application/vnd.jupyter.widget-view+json": {
              "version_major": 2,
              "version_minor": 0,
              "model_id": "6cfbac88dfcb49f9a412ba8d1eb45981"
            }
          },
          "metadata": {}
        },
        {
          "output_type": "display_data",
          "data": {
            "text/plain": [
              "tokenizer.json:   0%|          | 0.00/466k [00:00<?, ?B/s]"
            ],
            "application/vnd.jupyter.widget-view+json": {
              "version_major": 2,
              "version_minor": 0,
              "model_id": "a95b6d591f314f7488e15c84a9d5f405"
            }
          },
          "metadata": {}
        },
        {
          "output_type": "execute_result",
          "data": {
            "text/plain": [
              "('./tokenizer_config.json',\n",
              " './special_tokens_map.json',\n",
              " './vocab.txt',\n",
              " './added_tokens.json',\n",
              " './tokenizer.json')"
            ]
          },
          "metadata": {},
          "execution_count": 5
        }
      ],
      "source": [
        "from transformers import AutoModel, AutoTokenizer\n",
        "\n",
        "model_id = \"distilbert-base-uncased\"  # 예시, 원하는 모델로 교체\n",
        "model = AutoModel.from_pretrained(model_id)\n",
        "tokenizer = AutoTokenizer.from_pretrained(model_id)\n",
        "\n",
        "save_dir = \".\"  # 현재 클론한 저장소 경로\n",
        "model.save_pretrained(save_dir)\n",
        "tokenizer.save_pretrained(save_dir)"
      ],
      "id": "g_by2VDabYOx"
    },
    {
      "cell_type": "markdown",
      "metadata": {
        "id": "AnyPtosrbYOx"
      },
      "source": [
        "### D. Git LFS 설정 및 푸시"
      ],
      "id": "AnyPtosrbYOx"
    },
    {
      "cell_type": "code",
      "execution_count": 6,
      "metadata": {
        "colab": {
          "base_uri": "https://localhost:8080/"
        },
        "id": "QO75aJBLbYOx",
        "outputId": "070899a0-c8f3-45fd-dbcb-24d671f48a1c"
      },
      "outputs": [
        {
          "output_type": "stream",
          "name": "stdout",
          "text": [
            "Git LFS initialized.\n",
            "fatal: not a git repository (or any of the parent directories): .git\n",
            "fatal: not a git repository (or any of the parent directories): .git\n",
            "fatal: not a git repository (or any of the parent directories): .git\n"
          ]
        }
      ],
      "source": [
        "!git lfs install\n",
        "!git add .\n",
        "!git commit -m \"Upload my model\"\n",
        "!git push"
      ],
      "id": "QO75aJBLbYOx"
    },
    {
      "cell_type": "markdown",
      "metadata": {
        "id": "ViRbcozLbYOx"
      },
      "source": [
        "## (3) 데이터셋 업로드\n",
        "\n",
        "### A. 새 데이터셋 저장소 만들기 (CLI)"
      ],
      "id": "ViRbcozLbYOx"
    },
    {
      "cell_type": "code",
      "execution_count": 8,
      "metadata": {
        "colab": {
          "base_uri": "https://localhost:8080/"
        },
        "id": "AtkzJ0KibYOx",
        "outputId": "181f31cb-3fb9-40c5-dc9d-dbb9c11e1ceb"
      },
      "outputs": [
        {
          "output_type": "stream",
          "name": "stdout",
          "text": [
            "usage: hf <command> [<args>]\n",
            "hf: error: unrecognized arguments: --type dataset\n"
          ]
        }
      ],
      "source": [
        "!hf repo create my-dataset --type dataset"
      ],
      "id": "AtkzJ0KibYOx"
    },
    {
      "cell_type": "markdown",
      "metadata": {
        "id": "zIenHVQRbYOx"
      },
      "source": [
        "### B. 로컬 클론"
      ],
      "id": "zIenHVQRbYOx"
    },
    {
      "cell_type": "code",
      "execution_count": 9,
      "metadata": {
        "colab": {
          "base_uri": "https://localhost:8080/"
        },
        "id": "WRNOaPdqbYOx",
        "outputId": "3ccebfb9-f7ca-473d-acae-10886a16e8ef"
      },
      "outputs": [
        {
          "output_type": "stream",
          "name": "stdout",
          "text": [
            "/content\n",
            "Cloning into 'my-dataset'...\n",
            "fatal: could not read Username for 'https://huggingface.co': No such device or address\n",
            "[Errno 2] No such file or directory: 'my-dataset'\n",
            "/content\n"
          ]
        }
      ],
      "source": [
        "%cd /content\n",
        "!git clone https://huggingface.co/datasets/username/my-dataset\n",
        "%cd my-dataset"
      ],
      "id": "WRNOaPdqbYOx"
    },
    {
      "cell_type": "markdown",
      "metadata": {
        "id": "IF1uEHsXbYOx"
      },
      "source": [
        "### C. 데이터 준비 (예시 구조)\n",
        "```\n",
        "├── data.csv\n",
        "├── README.md\n",
        "└── dataset_infos.json\n",
        "```\n",
        "- 데이터 파일: `csv`, `json`, `parquet` 등 지원\n",
        "- `README.md` 및 `dataset_infos.json` 작성 권장"
      ],
      "id": "IF1uEHsXbYOx"
    },
    {
      "cell_type": "code",
      "execution_count": 10,
      "metadata": {
        "colab": {
          "base_uri": "https://localhost:8080/"
        },
        "id": "_I_kvKKBbYOx",
        "outputId": "fe314766-2584-4616-a098-d87753c4cc15"
      },
      "outputs": [
        {
          "output_type": "execute_result",
          "data": {
            "text/plain": [
              "175"
            ]
          },
          "metadata": {},
          "execution_count": 10
        }
      ],
      "source": [
        "import pandas as pd, json\n",
        "pd.DataFrame({\"text\":[\"hello\",\"world\"],\"label\":[1,0]}).to_csv(\"data.csv\", index=False)\n",
        "open(\"README.md\",\"w\", encoding=\"utf-8\").write(\"# My Dataset\\n\\n샘플 데이터셋입니다.\")\n",
        "open(\"dataset_infos.json\",\"w\", encoding=\"utf-8\").write(json.dumps({\n",
        "    \"my-dataset\": {\n",
        "        \"description\": \"샘플\",\n",
        "        \"features\": {\"text\": {\"dtype\": \"string\"}, \"label\": {\"dtype\": \"int64\"}}\n",
        "    }\n",
        "}, ensure_ascii=False, indent=2))"
      ],
      "id": "_I_kvKKBbYOx"
    },
    {
      "cell_type": "code",
      "execution_count": 11,
      "metadata": {
        "colab": {
          "base_uri": "https://localhost:8080/"
        },
        "id": "PCaBfeGFbYOy",
        "outputId": "82e62ad3-6e06-4705-d794-dbf5c956c51a"
      },
      "outputs": [
        {
          "output_type": "stream",
          "name": "stdout",
          "text": [
            "Git LFS initialized.\n",
            "fatal: not a git repository (or any of the parent directories): .git\n",
            "fatal: not a git repository (or any of the parent directories): .git\n",
            "fatal: not a git repository (or any of the parent directories): .git\n"
          ]
        }
      ],
      "source": [
        "!git lfs install\n",
        "!git add .\n",
        "!git commit -m \"Upload dataset\"\n",
        "!git push"
      ],
      "id": "PCaBfeGFbYOy"
    },
    {
      "cell_type": "markdown",
      "metadata": {
        "id": "64yn19C1bYOy"
      },
      "source": [
        "## (4) Spaces에 업로드"
      ],
      "id": "64yn19C1bYOy"
    },
    {
      "cell_type": "markdown",
      "metadata": {
        "id": "GnPGZJh9bYOy"
      },
      "source": [
        "### 개요\n",
        "- Hub에서 Space 생성 → SDK 선택(Gradio/Streamlit) → `app.py`와 `requirements.txt` 업로드 → 자동 빌드/서비스"
      ],
      "id": "GnPGZJh9bYOy"
    },
    {
      "cell_type": "markdown",
      "metadata": {
        "id": "JvG7Wx2ybYOy"
      },
      "source": [
        "### Gradio 예시 (app.py)"
      ],
      "id": "JvG7Wx2ybYOy"
    },
    {
      "cell_type": "code",
      "execution_count": 12,
      "metadata": {
        "colab": {
          "base_uri": "https://localhost:8080/"
        },
        "id": "LHtpImywbYOy",
        "outputId": "18d2c418-2a73-4a0e-f2fc-5f9460817d9f"
      },
      "outputs": [
        {
          "output_type": "stream",
          "name": "stdout",
          "text": [
            "Writing app.py\n"
          ]
        }
      ],
      "source": [
        "%%writefile app.py\n",
        "import gradio as gr\n",
        "\n",
        "def greet(name):\n",
        "    return f\"안녕하세요, {name}!\"\n",
        "\n",
        "demo = gr.Interface(fn=greet, inputs=\"text\", outputs=\"text\")\n",
        "demo.launch()"
      ],
      "id": "LHtpImywbYOy"
    },
    {
      "cell_type": "markdown",
      "metadata": {
        "id": "ibBK87EsbYOy"
      },
      "source": [
        "### Gradio와 Streamlit 비교"
      ],
      "id": "ibBK87EsbYOy"
    },
    {
      "cell_type": "markdown",
      "metadata": {
        "id": "IIWnUQhabYOy"
      },
      "source": [
        "| 구분 | **Gradio** | **Streamlit** |\n",
        "|---|---|---|\n",
        "| **목적** | 머신러닝 모델 **데모/인터페이스** 제공에 특화 | 데이터 앱·대시보드 제작에 특화 |\n",
        "| **설계 철학** | “단 몇 줄로 모델을 체험하게 하자” | “데이터 과학자도 쉽게 웹 앱을 만들자” |\n",
        "| **문법 스타일** | 컴포넌트 블록 배치 | `st.write`, `st.button` 등으로 UI 구성 |\n",
        "| **사용 난이도** | `Interface(fn, inputs, outputs)` 한 줄 배포 | 자유도 높고 레이아웃 커스터마이징 용이 |\n",
        "| **ML 친화성** | 텍스트/오디오/이미지 타입 강력 지원 | 시각화·대시보드·보고서 친화 |\n",
        "| **생태계** | HF Spaces 기본 SDK | 독립 생태계 |\n",
        "| **장점** | HF 모델 연계·빠른 프로토타이핑 | 대시보드/차트/필터 강점 |\n",
        "| **단점** | 복잡 대시보드 한계 | HF와 기본 연동 없음 |"
      ],
      "id": "IIWnUQhabYOy"
    },
    {
      "cell_type": "markdown",
      "metadata": {
        "id": "2lIq-B5rbYOy"
      },
      "source": [
        "### 새 Space 만들기 & 로컬 업로드 (git)"
      ],
      "id": "2lIq-B5rbYOy"
    },
    {
      "cell_type": "code",
      "execution_count": null,
      "metadata": {
        "id": "SHgX2WuibYOy"
      },
      "outputs": [],
      "source": [
        "space_url = \"https://huggingface.co/spaces/username/my-first-space\"  # 본인 정보로 교체\n",
        "print(\"Space URL:\", space_url)\n",
        "\n",
        "%cd /content\n",
        "!git clone https://huggingface.co/spaces/username/my-first-space\n",
        "%cd my-first-space\n",
        "!cp /content/app.py .\n",
        "open(\"requirements.txt\",\"w\").write(\"gradio\\n\")  # Streamlit이면 streamlit 추가\n",
        "!git lfs install\n",
        "!git add .\n",
        "!git commit -m \"Upload my Space app\"\n",
        "!git push"
      ],
      "id": "SHgX2WuibYOy"
    },
    {
      "cell_type": "markdown",
      "metadata": {
        "id": "ZSBtDdE9bYOy"
      },
      "source": [
        "### 자동 배포\n",
        "- push 후 1~2분 내 서버에서 빌드/실행 → Space URL에서 바로 확인 가능\n",
        "- URL 형식: `https://huggingface.co/spaces/username/my-first-space`"
      ],
      "id": "ZSBtDdE9bYOy"
    },
    {
      "cell_type": "markdown",
      "metadata": {
        "id": "Lovj6SRqbYOy"
      },
      "source": [
        "## (5) Python API 업로드 (간단 방법)"
      ],
      "id": "Lovj6SRqbYOy"
    },
    {
      "cell_type": "code",
      "execution_count": null,
      "metadata": {
        "id": "mxhG9kWdbYOz"
      },
      "outputs": [],
      "source": [
        "from huggingface_hub import HfApi\n",
        "\n",
        "api = HfApi()\n",
        "api.upload_file(\n",
        "    path_or_fileobj=\"pytorch_model.bin\",\n",
        "    path_in_repo=\"pytorch_model.bin\",\n",
        "    repo_id=\"username/my-model\",\n",
        "    repo_type=\"model\",\n",
        ")"
      ],
      "id": "mxhG9kWdbYOz"
    },
    {
      "cell_type": "markdown",
      "metadata": {
        "id": "oDjdBQf9bYOz"
      },
      "source": [
        "## (6) 주의사항 체크리스트\n",
        "- 데이터셋은 `repo_type=\"dataset\"`으로 변경\n",
        "- **Git LFS**: 10MB 초과 파일은 반드시 LFS 사용\n",
        "- **라이선스**: 공개 전 사용 조건 명시 (README, model card/dataset card)\n",
        "- 문서화: README에 **모델/데이터셋 설명·입출력 예시·제약/한계**를 포함하세요"
      ],
      "id": "oDjdBQf9bYOz"
    },
    {
      "cell_type": "markdown",
      "metadata": {
        "id": "KZJNra2fbYOz"
      },
      "source": [
        "## (7) Gradio 기반 예제 템플릿\n",
        "### 프로젝트 구조\n",
        "```\n",
        "my-first-space/\n",
        " ├── app.py\n",
        " └── requirements.txt\n",
        "```\n",
        "\n",
        "### app.py (감성 분석기)"
      ],
      "id": "KZJNra2fbYOz"
    },
    {
      "cell_type": "code",
      "execution_count": 13,
      "metadata": {
        "colab": {
          "base_uri": "https://localhost:8080/"
        },
        "id": "V7BLPGUobYOz",
        "outputId": "b5954584-7b09-45fe-8c79-bb4b0774ff48"
      },
      "outputs": [
        {
          "output_type": "stream",
          "name": "stdout",
          "text": [
            "Overwriting app.py\n"
          ]
        }
      ],
      "source": [
        "%%writefile app.py\n",
        "import gradio as gr\n",
        "from transformers import pipeline\n",
        "\n",
        "sentiment_analyzer = pipeline(\"sentiment-analysis\")\n",
        "\n",
        "def analyze(text):\n",
        "    result = sentiment_analyzer(text)[0]\n",
        "    label = result['label']\n",
        "    score = round(result['score'], 3)\n",
        "    return f\"예측: {label} (신뢰도: {score})\"\n",
        "\n",
        "with gr.Blocks() as demo:\n",
        "    gr.Markdown(\"## 🤗 Hugging Face Space 데모: 감성 분석기\")\n",
        "    with gr.Row():\n",
        "        inp = gr.Textbox(label=\"입력 텍스트\", placeholder=\"문장을 입력하세요...\")\n",
        "        out = gr.Textbox(label=\"결과\")\n",
        "    btn = gr.Button(\"분석 실행\")\n",
        "    btn.click(fn=analyze, inputs=inp, outputs=out)\n",
        "\n",
        "demo.launch()"
      ],
      "id": "V7BLPGUobYOz"
    },
    {
      "cell_type": "markdown",
      "metadata": {
        "id": "t07kW-AsbYOz"
      },
      "source": [
        "### requirements.txt"
      ],
      "id": "t07kW-AsbYOz"
    },
    {
      "cell_type": "code",
      "execution_count": 14,
      "metadata": {
        "colab": {
          "base_uri": "https://localhost:8080/"
        },
        "id": "9KzuQ5-xbYOz",
        "outputId": "0b2a7b05-0dae-4b0e-b7bb-8130c2641067"
      },
      "outputs": [
        {
          "output_type": "stream",
          "name": "stdout",
          "text": [
            "transformers\n",
            "torch\n",
            "gradio\n",
            "\n"
          ]
        }
      ],
      "source": [
        "open(\"requirements.txt\",\"w\").write(\"transformers\\ntorch\\ngradio\\n\")\n",
        "print(open(\"requirements.txt\").read())"
      ],
      "id": "9KzuQ5-xbYOz"
    }
  ],
  "metadata": {
    "kernelspec": {
      "display_name": "Python 3",
      "language": "python",
      "name": "python3"
    },
    "language_info": {
      "name": "python",
      "version": "3.10"
    },
    "colab": {
      "provenance": []
    },
    "widgets": {
      "application/vnd.jupyter.widget-state+json": {
        "52926eeb4aec44cab8e6fb3fdeb14ea1": {
          "model_module": "@jupyter-widgets/controls",
          "model_name": "HBoxModel",
          "model_module_version": "1.5.0",
          "state": {
            "_dom_classes": [],
            "_model_module": "@jupyter-widgets/controls",
            "_model_module_version": "1.5.0",
            "_model_name": "HBoxModel",
            "_view_count": null,
            "_view_module": "@jupyter-widgets/controls",
            "_view_module_version": "1.5.0",
            "_view_name": "HBoxView",
            "box_style": "",
            "children": [
              "IPY_MODEL_4f589a37dde64817b4c4f02e1794766c",
              "IPY_MODEL_68d774b5f6894c6c895d2cb00d6965db",
              "IPY_MODEL_8166631bbe47481490f57c22d05e9cac"
            ],
            "layout": "IPY_MODEL_2dc82ef11d7a4a0b8b0addc9a98917e2"
          }
        },
        "4f589a37dde64817b4c4f02e1794766c": {
          "model_module": "@jupyter-widgets/controls",
          "model_name": "HTMLModel",
          "model_module_version": "1.5.0",
          "state": {
            "_dom_classes": [],
            "_model_module": "@jupyter-widgets/controls",
            "_model_module_version": "1.5.0",
            "_model_name": "HTMLModel",
            "_view_count": null,
            "_view_module": "@jupyter-widgets/controls",
            "_view_module_version": "1.5.0",
            "_view_name": "HTMLView",
            "description": "",
            "description_tooltip": null,
            "layout": "IPY_MODEL_887b45283798456e8bbeae53d3f47d4a",
            "placeholder": "​",
            "style": "IPY_MODEL_72145b937d8c4386b1b5812744dec686",
            "value": "config.json: 100%"
          }
        },
        "68d774b5f6894c6c895d2cb00d6965db": {
          "model_module": "@jupyter-widgets/controls",
          "model_name": "FloatProgressModel",
          "model_module_version": "1.5.0",
          "state": {
            "_dom_classes": [],
            "_model_module": "@jupyter-widgets/controls",
            "_model_module_version": "1.5.0",
            "_model_name": "FloatProgressModel",
            "_view_count": null,
            "_view_module": "@jupyter-widgets/controls",
            "_view_module_version": "1.5.0",
            "_view_name": "ProgressView",
            "bar_style": "success",
            "description": "",
            "description_tooltip": null,
            "layout": "IPY_MODEL_52097d92286b4677a2384b7c0e8a865d",
            "max": 483,
            "min": 0,
            "orientation": "horizontal",
            "style": "IPY_MODEL_f2cd1c478b564a58b63891c175852615",
            "value": 483
          }
        },
        "8166631bbe47481490f57c22d05e9cac": {
          "model_module": "@jupyter-widgets/controls",
          "model_name": "HTMLModel",
          "model_module_version": "1.5.0",
          "state": {
            "_dom_classes": [],
            "_model_module": "@jupyter-widgets/controls",
            "_model_module_version": "1.5.0",
            "_model_name": "HTMLModel",
            "_view_count": null,
            "_view_module": "@jupyter-widgets/controls",
            "_view_module_version": "1.5.0",
            "_view_name": "HTMLView",
            "description": "",
            "description_tooltip": null,
            "layout": "IPY_MODEL_e273f81491e145c6a9f5ffea51f1041d",
            "placeholder": "​",
            "style": "IPY_MODEL_bbeb9f8c0b9c4afba332a0cd07a6f474",
            "value": " 483/483 [00:00&lt;00:00, 10.6kB/s]"
          }
        },
        "2dc82ef11d7a4a0b8b0addc9a98917e2": {
          "model_module": "@jupyter-widgets/base",
          "model_name": "LayoutModel",
          "model_module_version": "1.2.0",
          "state": {
            "_model_module": "@jupyter-widgets/base",
            "_model_module_version": "1.2.0",
            "_model_name": "LayoutModel",
            "_view_count": null,
            "_view_module": "@jupyter-widgets/base",
            "_view_module_version": "1.2.0",
            "_view_name": "LayoutView",
            "align_content": null,
            "align_items": null,
            "align_self": null,
            "border": null,
            "bottom": null,
            "display": null,
            "flex": null,
            "flex_flow": null,
            "grid_area": null,
            "grid_auto_columns": null,
            "grid_auto_flow": null,
            "grid_auto_rows": null,
            "grid_column": null,
            "grid_gap": null,
            "grid_row": null,
            "grid_template_areas": null,
            "grid_template_columns": null,
            "grid_template_rows": null,
            "height": null,
            "justify_content": null,
            "justify_items": null,
            "left": null,
            "margin": null,
            "max_height": null,
            "max_width": null,
            "min_height": null,
            "min_width": null,
            "object_fit": null,
            "object_position": null,
            "order": null,
            "overflow": null,
            "overflow_x": null,
            "overflow_y": null,
            "padding": null,
            "right": null,
            "top": null,
            "visibility": null,
            "width": null
          }
        },
        "887b45283798456e8bbeae53d3f47d4a": {
          "model_module": "@jupyter-widgets/base",
          "model_name": "LayoutModel",
          "model_module_version": "1.2.0",
          "state": {
            "_model_module": "@jupyter-widgets/base",
            "_model_module_version": "1.2.0",
            "_model_name": "LayoutModel",
            "_view_count": null,
            "_view_module": "@jupyter-widgets/base",
            "_view_module_version": "1.2.0",
            "_view_name": "LayoutView",
            "align_content": null,
            "align_items": null,
            "align_self": null,
            "border": null,
            "bottom": null,
            "display": null,
            "flex": null,
            "flex_flow": null,
            "grid_area": null,
            "grid_auto_columns": null,
            "grid_auto_flow": null,
            "grid_auto_rows": null,
            "grid_column": null,
            "grid_gap": null,
            "grid_row": null,
            "grid_template_areas": null,
            "grid_template_columns": null,
            "grid_template_rows": null,
            "height": null,
            "justify_content": null,
            "justify_items": null,
            "left": null,
            "margin": null,
            "max_height": null,
            "max_width": null,
            "min_height": null,
            "min_width": null,
            "object_fit": null,
            "object_position": null,
            "order": null,
            "overflow": null,
            "overflow_x": null,
            "overflow_y": null,
            "padding": null,
            "right": null,
            "top": null,
            "visibility": null,
            "width": null
          }
        },
        "72145b937d8c4386b1b5812744dec686": {
          "model_module": "@jupyter-widgets/controls",
          "model_name": "DescriptionStyleModel",
          "model_module_version": "1.5.0",
          "state": {
            "_model_module": "@jupyter-widgets/controls",
            "_model_module_version": "1.5.0",
            "_model_name": "DescriptionStyleModel",
            "_view_count": null,
            "_view_module": "@jupyter-widgets/base",
            "_view_module_version": "1.2.0",
            "_view_name": "StyleView",
            "description_width": ""
          }
        },
        "52097d92286b4677a2384b7c0e8a865d": {
          "model_module": "@jupyter-widgets/base",
          "model_name": "LayoutModel",
          "model_module_version": "1.2.0",
          "state": {
            "_model_module": "@jupyter-widgets/base",
            "_model_module_version": "1.2.0",
            "_model_name": "LayoutModel",
            "_view_count": null,
            "_view_module": "@jupyter-widgets/base",
            "_view_module_version": "1.2.0",
            "_view_name": "LayoutView",
            "align_content": null,
            "align_items": null,
            "align_self": null,
            "border": null,
            "bottom": null,
            "display": null,
            "flex": null,
            "flex_flow": null,
            "grid_area": null,
            "grid_auto_columns": null,
            "grid_auto_flow": null,
            "grid_auto_rows": null,
            "grid_column": null,
            "grid_gap": null,
            "grid_row": null,
            "grid_template_areas": null,
            "grid_template_columns": null,
            "grid_template_rows": null,
            "height": null,
            "justify_content": null,
            "justify_items": null,
            "left": null,
            "margin": null,
            "max_height": null,
            "max_width": null,
            "min_height": null,
            "min_width": null,
            "object_fit": null,
            "object_position": null,
            "order": null,
            "overflow": null,
            "overflow_x": null,
            "overflow_y": null,
            "padding": null,
            "right": null,
            "top": null,
            "visibility": null,
            "width": null
          }
        },
        "f2cd1c478b564a58b63891c175852615": {
          "model_module": "@jupyter-widgets/controls",
          "model_name": "ProgressStyleModel",
          "model_module_version": "1.5.0",
          "state": {
            "_model_module": "@jupyter-widgets/controls",
            "_model_module_version": "1.5.0",
            "_model_name": "ProgressStyleModel",
            "_view_count": null,
            "_view_module": "@jupyter-widgets/base",
            "_view_module_version": "1.2.0",
            "_view_name": "StyleView",
            "bar_color": null,
            "description_width": ""
          }
        },
        "e273f81491e145c6a9f5ffea51f1041d": {
          "model_module": "@jupyter-widgets/base",
          "model_name": "LayoutModel",
          "model_module_version": "1.2.0",
          "state": {
            "_model_module": "@jupyter-widgets/base",
            "_model_module_version": "1.2.0",
            "_model_name": "LayoutModel",
            "_view_count": null,
            "_view_module": "@jupyter-widgets/base",
            "_view_module_version": "1.2.0",
            "_view_name": "LayoutView",
            "align_content": null,
            "align_items": null,
            "align_self": null,
            "border": null,
            "bottom": null,
            "display": null,
            "flex": null,
            "flex_flow": null,
            "grid_area": null,
            "grid_auto_columns": null,
            "grid_auto_flow": null,
            "grid_auto_rows": null,
            "grid_column": null,
            "grid_gap": null,
            "grid_row": null,
            "grid_template_areas": null,
            "grid_template_columns": null,
            "grid_template_rows": null,
            "height": null,
            "justify_content": null,
            "justify_items": null,
            "left": null,
            "margin": null,
            "max_height": null,
            "max_width": null,
            "min_height": null,
            "min_width": null,
            "object_fit": null,
            "object_position": null,
            "order": null,
            "overflow": null,
            "overflow_x": null,
            "overflow_y": null,
            "padding": null,
            "right": null,
            "top": null,
            "visibility": null,
            "width": null
          }
        },
        "bbeb9f8c0b9c4afba332a0cd07a6f474": {
          "model_module": "@jupyter-widgets/controls",
          "model_name": "DescriptionStyleModel",
          "model_module_version": "1.5.0",
          "state": {
            "_model_module": "@jupyter-widgets/controls",
            "_model_module_version": "1.5.0",
            "_model_name": "DescriptionStyleModel",
            "_view_count": null,
            "_view_module": "@jupyter-widgets/base",
            "_view_module_version": "1.2.0",
            "_view_name": "StyleView",
            "description_width": ""
          }
        },
        "92e21cfbf6964661901c0618155b2ac8": {
          "model_module": "@jupyter-widgets/controls",
          "model_name": "HBoxModel",
          "model_module_version": "1.5.0",
          "state": {
            "_dom_classes": [],
            "_model_module": "@jupyter-widgets/controls",
            "_model_module_version": "1.5.0",
            "_model_name": "HBoxModel",
            "_view_count": null,
            "_view_module": "@jupyter-widgets/controls",
            "_view_module_version": "1.5.0",
            "_view_name": "HBoxView",
            "box_style": "",
            "children": [
              "IPY_MODEL_b885151843944960ad8ce32cda172cea",
              "IPY_MODEL_1733f79504a14f44883e9163528f56df",
              "IPY_MODEL_9273ba8371d84ecb9322f0c1fd149050"
            ],
            "layout": "IPY_MODEL_1fa906a65cf84d018b96a0829dd017a2"
          }
        },
        "b885151843944960ad8ce32cda172cea": {
          "model_module": "@jupyter-widgets/controls",
          "model_name": "HTMLModel",
          "model_module_version": "1.5.0",
          "state": {
            "_dom_classes": [],
            "_model_module": "@jupyter-widgets/controls",
            "_model_module_version": "1.5.0",
            "_model_name": "HTMLModel",
            "_view_count": null,
            "_view_module": "@jupyter-widgets/controls",
            "_view_module_version": "1.5.0",
            "_view_name": "HTMLView",
            "description": "",
            "description_tooltip": null,
            "layout": "IPY_MODEL_842ad726314a4848b30556f31436b81f",
            "placeholder": "​",
            "style": "IPY_MODEL_576010fc5c7648839a5a4eb0421ea910",
            "value": "model.safetensors: 100%"
          }
        },
        "1733f79504a14f44883e9163528f56df": {
          "model_module": "@jupyter-widgets/controls",
          "model_name": "FloatProgressModel",
          "model_module_version": "1.5.0",
          "state": {
            "_dom_classes": [],
            "_model_module": "@jupyter-widgets/controls",
            "_model_module_version": "1.5.0",
            "_model_name": "FloatProgressModel",
            "_view_count": null,
            "_view_module": "@jupyter-widgets/controls",
            "_view_module_version": "1.5.0",
            "_view_name": "ProgressView",
            "bar_style": "success",
            "description": "",
            "description_tooltip": null,
            "layout": "IPY_MODEL_153b9a34c5bc4cfe9c49a9f8dc660861",
            "max": 267954768,
            "min": 0,
            "orientation": "horizontal",
            "style": "IPY_MODEL_700ea932d7b44fb1aa1358b1bb986719",
            "value": 267954768
          }
        },
        "9273ba8371d84ecb9322f0c1fd149050": {
          "model_module": "@jupyter-widgets/controls",
          "model_name": "HTMLModel",
          "model_module_version": "1.5.0",
          "state": {
            "_dom_classes": [],
            "_model_module": "@jupyter-widgets/controls",
            "_model_module_version": "1.5.0",
            "_model_name": "HTMLModel",
            "_view_count": null,
            "_view_module": "@jupyter-widgets/controls",
            "_view_module_version": "1.5.0",
            "_view_name": "HTMLView",
            "description": "",
            "description_tooltip": null,
            "layout": "IPY_MODEL_4e1cdc8c927a4be5b11bb844f22c19be",
            "placeholder": "​",
            "style": "IPY_MODEL_2173b0b8c0a446bc807caab491e741f8",
            "value": " 268M/268M [00:05&lt;00:00, 47.3MB/s]"
          }
        },
        "1fa906a65cf84d018b96a0829dd017a2": {
          "model_module": "@jupyter-widgets/base",
          "model_name": "LayoutModel",
          "model_module_version": "1.2.0",
          "state": {
            "_model_module": "@jupyter-widgets/base",
            "_model_module_version": "1.2.0",
            "_model_name": "LayoutModel",
            "_view_count": null,
            "_view_module": "@jupyter-widgets/base",
            "_view_module_version": "1.2.0",
            "_view_name": "LayoutView",
            "align_content": null,
            "align_items": null,
            "align_self": null,
            "border": null,
            "bottom": null,
            "display": null,
            "flex": null,
            "flex_flow": null,
            "grid_area": null,
            "grid_auto_columns": null,
            "grid_auto_flow": null,
            "grid_auto_rows": null,
            "grid_column": null,
            "grid_gap": null,
            "grid_row": null,
            "grid_template_areas": null,
            "grid_template_columns": null,
            "grid_template_rows": null,
            "height": null,
            "justify_content": null,
            "justify_items": null,
            "left": null,
            "margin": null,
            "max_height": null,
            "max_width": null,
            "min_height": null,
            "min_width": null,
            "object_fit": null,
            "object_position": null,
            "order": null,
            "overflow": null,
            "overflow_x": null,
            "overflow_y": null,
            "padding": null,
            "right": null,
            "top": null,
            "visibility": null,
            "width": null
          }
        },
        "842ad726314a4848b30556f31436b81f": {
          "model_module": "@jupyter-widgets/base",
          "model_name": "LayoutModel",
          "model_module_version": "1.2.0",
          "state": {
            "_model_module": "@jupyter-widgets/base",
            "_model_module_version": "1.2.0",
            "_model_name": "LayoutModel",
            "_view_count": null,
            "_view_module": "@jupyter-widgets/base",
            "_view_module_version": "1.2.0",
            "_view_name": "LayoutView",
            "align_content": null,
            "align_items": null,
            "align_self": null,
            "border": null,
            "bottom": null,
            "display": null,
            "flex": null,
            "flex_flow": null,
            "grid_area": null,
            "grid_auto_columns": null,
            "grid_auto_flow": null,
            "grid_auto_rows": null,
            "grid_column": null,
            "grid_gap": null,
            "grid_row": null,
            "grid_template_areas": null,
            "grid_template_columns": null,
            "grid_template_rows": null,
            "height": null,
            "justify_content": null,
            "justify_items": null,
            "left": null,
            "margin": null,
            "max_height": null,
            "max_width": null,
            "min_height": null,
            "min_width": null,
            "object_fit": null,
            "object_position": null,
            "order": null,
            "overflow": null,
            "overflow_x": null,
            "overflow_y": null,
            "padding": null,
            "right": null,
            "top": null,
            "visibility": null,
            "width": null
          }
        },
        "576010fc5c7648839a5a4eb0421ea910": {
          "model_module": "@jupyter-widgets/controls",
          "model_name": "DescriptionStyleModel",
          "model_module_version": "1.5.0",
          "state": {
            "_model_module": "@jupyter-widgets/controls",
            "_model_module_version": "1.5.0",
            "_model_name": "DescriptionStyleModel",
            "_view_count": null,
            "_view_module": "@jupyter-widgets/base",
            "_view_module_version": "1.2.0",
            "_view_name": "StyleView",
            "description_width": ""
          }
        },
        "153b9a34c5bc4cfe9c49a9f8dc660861": {
          "model_module": "@jupyter-widgets/base",
          "model_name": "LayoutModel",
          "model_module_version": "1.2.0",
          "state": {
            "_model_module": "@jupyter-widgets/base",
            "_model_module_version": "1.2.0",
            "_model_name": "LayoutModel",
            "_view_count": null,
            "_view_module": "@jupyter-widgets/base",
            "_view_module_version": "1.2.0",
            "_view_name": "LayoutView",
            "align_content": null,
            "align_items": null,
            "align_self": null,
            "border": null,
            "bottom": null,
            "display": null,
            "flex": null,
            "flex_flow": null,
            "grid_area": null,
            "grid_auto_columns": null,
            "grid_auto_flow": null,
            "grid_auto_rows": null,
            "grid_column": null,
            "grid_gap": null,
            "grid_row": null,
            "grid_template_areas": null,
            "grid_template_columns": null,
            "grid_template_rows": null,
            "height": null,
            "justify_content": null,
            "justify_items": null,
            "left": null,
            "margin": null,
            "max_height": null,
            "max_width": null,
            "min_height": null,
            "min_width": null,
            "object_fit": null,
            "object_position": null,
            "order": null,
            "overflow": null,
            "overflow_x": null,
            "overflow_y": null,
            "padding": null,
            "right": null,
            "top": null,
            "visibility": null,
            "width": null
          }
        },
        "700ea932d7b44fb1aa1358b1bb986719": {
          "model_module": "@jupyter-widgets/controls",
          "model_name": "ProgressStyleModel",
          "model_module_version": "1.5.0",
          "state": {
            "_model_module": "@jupyter-widgets/controls",
            "_model_module_version": "1.5.0",
            "_model_name": "ProgressStyleModel",
            "_view_count": null,
            "_view_module": "@jupyter-widgets/base",
            "_view_module_version": "1.2.0",
            "_view_name": "StyleView",
            "bar_color": null,
            "description_width": ""
          }
        },
        "4e1cdc8c927a4be5b11bb844f22c19be": {
          "model_module": "@jupyter-widgets/base",
          "model_name": "LayoutModel",
          "model_module_version": "1.2.0",
          "state": {
            "_model_module": "@jupyter-widgets/base",
            "_model_module_version": "1.2.0",
            "_model_name": "LayoutModel",
            "_view_count": null,
            "_view_module": "@jupyter-widgets/base",
            "_view_module_version": "1.2.0",
            "_view_name": "LayoutView",
            "align_content": null,
            "align_items": null,
            "align_self": null,
            "border": null,
            "bottom": null,
            "display": null,
            "flex": null,
            "flex_flow": null,
            "grid_area": null,
            "grid_auto_columns": null,
            "grid_auto_flow": null,
            "grid_auto_rows": null,
            "grid_column": null,
            "grid_gap": null,
            "grid_row": null,
            "grid_template_areas": null,
            "grid_template_columns": null,
            "grid_template_rows": null,
            "height": null,
            "justify_content": null,
            "justify_items": null,
            "left": null,
            "margin": null,
            "max_height": null,
            "max_width": null,
            "min_height": null,
            "min_width": null,
            "object_fit": null,
            "object_position": null,
            "order": null,
            "overflow": null,
            "overflow_x": null,
            "overflow_y": null,
            "padding": null,
            "right": null,
            "top": null,
            "visibility": null,
            "width": null
          }
        },
        "2173b0b8c0a446bc807caab491e741f8": {
          "model_module": "@jupyter-widgets/controls",
          "model_name": "DescriptionStyleModel",
          "model_module_version": "1.5.0",
          "state": {
            "_model_module": "@jupyter-widgets/controls",
            "_model_module_version": "1.5.0",
            "_model_name": "DescriptionStyleModel",
            "_view_count": null,
            "_view_module": "@jupyter-widgets/base",
            "_view_module_version": "1.2.0",
            "_view_name": "StyleView",
            "description_width": ""
          }
        },
        "9bdcae3137594b55b9cf9c4e810697ac": {
          "model_module": "@jupyter-widgets/controls",
          "model_name": "HBoxModel",
          "model_module_version": "1.5.0",
          "state": {
            "_dom_classes": [],
            "_model_module": "@jupyter-widgets/controls",
            "_model_module_version": "1.5.0",
            "_model_name": "HBoxModel",
            "_view_count": null,
            "_view_module": "@jupyter-widgets/controls",
            "_view_module_version": "1.5.0",
            "_view_name": "HBoxView",
            "box_style": "",
            "children": [
              "IPY_MODEL_6ecd4eaddb8449c19923104804e58a8f",
              "IPY_MODEL_65f5db8c4f9d4c9b8a3e751979b11027",
              "IPY_MODEL_63a860ec2c7e486eb643cc2846176d54"
            ],
            "layout": "IPY_MODEL_e6647cb3cd5c433b9e35f37982f83078"
          }
        },
        "6ecd4eaddb8449c19923104804e58a8f": {
          "model_module": "@jupyter-widgets/controls",
          "model_name": "HTMLModel",
          "model_module_version": "1.5.0",
          "state": {
            "_dom_classes": [],
            "_model_module": "@jupyter-widgets/controls",
            "_model_module_version": "1.5.0",
            "_model_name": "HTMLModel",
            "_view_count": null,
            "_view_module": "@jupyter-widgets/controls",
            "_view_module_version": "1.5.0",
            "_view_name": "HTMLView",
            "description": "",
            "description_tooltip": null,
            "layout": "IPY_MODEL_da42aeebf9ca4abcacac4c0323e734c3",
            "placeholder": "​",
            "style": "IPY_MODEL_2a7a3565fa8f46e385cc510ba4a5b832",
            "value": "tokenizer_config.json: 100%"
          }
        },
        "65f5db8c4f9d4c9b8a3e751979b11027": {
          "model_module": "@jupyter-widgets/controls",
          "model_name": "FloatProgressModel",
          "model_module_version": "1.5.0",
          "state": {
            "_dom_classes": [],
            "_model_module": "@jupyter-widgets/controls",
            "_model_module_version": "1.5.0",
            "_model_name": "FloatProgressModel",
            "_view_count": null,
            "_view_module": "@jupyter-widgets/controls",
            "_view_module_version": "1.5.0",
            "_view_name": "ProgressView",
            "bar_style": "success",
            "description": "",
            "description_tooltip": null,
            "layout": "IPY_MODEL_1f20ff326002403f848798645599f345",
            "max": 48,
            "min": 0,
            "orientation": "horizontal",
            "style": "IPY_MODEL_67ebe9b526a54dcbb9d587e1141878da",
            "value": 48
          }
        },
        "63a860ec2c7e486eb643cc2846176d54": {
          "model_module": "@jupyter-widgets/controls",
          "model_name": "HTMLModel",
          "model_module_version": "1.5.0",
          "state": {
            "_dom_classes": [],
            "_model_module": "@jupyter-widgets/controls",
            "_model_module_version": "1.5.0",
            "_model_name": "HTMLModel",
            "_view_count": null,
            "_view_module": "@jupyter-widgets/controls",
            "_view_module_version": "1.5.0",
            "_view_name": "HTMLView",
            "description": "",
            "description_tooltip": null,
            "layout": "IPY_MODEL_82a81994c2154a2d850584979c67457e",
            "placeholder": "​",
            "style": "IPY_MODEL_703c8c1e5d43466cbb3167ec376d80f0",
            "value": " 48.0/48.0 [00:00&lt;00:00, 3.96kB/s]"
          }
        },
        "e6647cb3cd5c433b9e35f37982f83078": {
          "model_module": "@jupyter-widgets/base",
          "model_name": "LayoutModel",
          "model_module_version": "1.2.0",
          "state": {
            "_model_module": "@jupyter-widgets/base",
            "_model_module_version": "1.2.0",
            "_model_name": "LayoutModel",
            "_view_count": null,
            "_view_module": "@jupyter-widgets/base",
            "_view_module_version": "1.2.0",
            "_view_name": "LayoutView",
            "align_content": null,
            "align_items": null,
            "align_self": null,
            "border": null,
            "bottom": null,
            "display": null,
            "flex": null,
            "flex_flow": null,
            "grid_area": null,
            "grid_auto_columns": null,
            "grid_auto_flow": null,
            "grid_auto_rows": null,
            "grid_column": null,
            "grid_gap": null,
            "grid_row": null,
            "grid_template_areas": null,
            "grid_template_columns": null,
            "grid_template_rows": null,
            "height": null,
            "justify_content": null,
            "justify_items": null,
            "left": null,
            "margin": null,
            "max_height": null,
            "max_width": null,
            "min_height": null,
            "min_width": null,
            "object_fit": null,
            "object_position": null,
            "order": null,
            "overflow": null,
            "overflow_x": null,
            "overflow_y": null,
            "padding": null,
            "right": null,
            "top": null,
            "visibility": null,
            "width": null
          }
        },
        "da42aeebf9ca4abcacac4c0323e734c3": {
          "model_module": "@jupyter-widgets/base",
          "model_name": "LayoutModel",
          "model_module_version": "1.2.0",
          "state": {
            "_model_module": "@jupyter-widgets/base",
            "_model_module_version": "1.2.0",
            "_model_name": "LayoutModel",
            "_view_count": null,
            "_view_module": "@jupyter-widgets/base",
            "_view_module_version": "1.2.0",
            "_view_name": "LayoutView",
            "align_content": null,
            "align_items": null,
            "align_self": null,
            "border": null,
            "bottom": null,
            "display": null,
            "flex": null,
            "flex_flow": null,
            "grid_area": null,
            "grid_auto_columns": null,
            "grid_auto_flow": null,
            "grid_auto_rows": null,
            "grid_column": null,
            "grid_gap": null,
            "grid_row": null,
            "grid_template_areas": null,
            "grid_template_columns": null,
            "grid_template_rows": null,
            "height": null,
            "justify_content": null,
            "justify_items": null,
            "left": null,
            "margin": null,
            "max_height": null,
            "max_width": null,
            "min_height": null,
            "min_width": null,
            "object_fit": null,
            "object_position": null,
            "order": null,
            "overflow": null,
            "overflow_x": null,
            "overflow_y": null,
            "padding": null,
            "right": null,
            "top": null,
            "visibility": null,
            "width": null
          }
        },
        "2a7a3565fa8f46e385cc510ba4a5b832": {
          "model_module": "@jupyter-widgets/controls",
          "model_name": "DescriptionStyleModel",
          "model_module_version": "1.5.0",
          "state": {
            "_model_module": "@jupyter-widgets/controls",
            "_model_module_version": "1.5.0",
            "_model_name": "DescriptionStyleModel",
            "_view_count": null,
            "_view_module": "@jupyter-widgets/base",
            "_view_module_version": "1.2.0",
            "_view_name": "StyleView",
            "description_width": ""
          }
        },
        "1f20ff326002403f848798645599f345": {
          "model_module": "@jupyter-widgets/base",
          "model_name": "LayoutModel",
          "model_module_version": "1.2.0",
          "state": {
            "_model_module": "@jupyter-widgets/base",
            "_model_module_version": "1.2.0",
            "_model_name": "LayoutModel",
            "_view_count": null,
            "_view_module": "@jupyter-widgets/base",
            "_view_module_version": "1.2.0",
            "_view_name": "LayoutView",
            "align_content": null,
            "align_items": null,
            "align_self": null,
            "border": null,
            "bottom": null,
            "display": null,
            "flex": null,
            "flex_flow": null,
            "grid_area": null,
            "grid_auto_columns": null,
            "grid_auto_flow": null,
            "grid_auto_rows": null,
            "grid_column": null,
            "grid_gap": null,
            "grid_row": null,
            "grid_template_areas": null,
            "grid_template_columns": null,
            "grid_template_rows": null,
            "height": null,
            "justify_content": null,
            "justify_items": null,
            "left": null,
            "margin": null,
            "max_height": null,
            "max_width": null,
            "min_height": null,
            "min_width": null,
            "object_fit": null,
            "object_position": null,
            "order": null,
            "overflow": null,
            "overflow_x": null,
            "overflow_y": null,
            "padding": null,
            "right": null,
            "top": null,
            "visibility": null,
            "width": null
          }
        },
        "67ebe9b526a54dcbb9d587e1141878da": {
          "model_module": "@jupyter-widgets/controls",
          "model_name": "ProgressStyleModel",
          "model_module_version": "1.5.0",
          "state": {
            "_model_module": "@jupyter-widgets/controls",
            "_model_module_version": "1.5.0",
            "_model_name": "ProgressStyleModel",
            "_view_count": null,
            "_view_module": "@jupyter-widgets/base",
            "_view_module_version": "1.2.0",
            "_view_name": "StyleView",
            "bar_color": null,
            "description_width": ""
          }
        },
        "82a81994c2154a2d850584979c67457e": {
          "model_module": "@jupyter-widgets/base",
          "model_name": "LayoutModel",
          "model_module_version": "1.2.0",
          "state": {
            "_model_module": "@jupyter-widgets/base",
            "_model_module_version": "1.2.0",
            "_model_name": "LayoutModel",
            "_view_count": null,
            "_view_module": "@jupyter-widgets/base",
            "_view_module_version": "1.2.0",
            "_view_name": "LayoutView",
            "align_content": null,
            "align_items": null,
            "align_self": null,
            "border": null,
            "bottom": null,
            "display": null,
            "flex": null,
            "flex_flow": null,
            "grid_area": null,
            "grid_auto_columns": null,
            "grid_auto_flow": null,
            "grid_auto_rows": null,
            "grid_column": null,
            "grid_gap": null,
            "grid_row": null,
            "grid_template_areas": null,
            "grid_template_columns": null,
            "grid_template_rows": null,
            "height": null,
            "justify_content": null,
            "justify_items": null,
            "left": null,
            "margin": null,
            "max_height": null,
            "max_width": null,
            "min_height": null,
            "min_width": null,
            "object_fit": null,
            "object_position": null,
            "order": null,
            "overflow": null,
            "overflow_x": null,
            "overflow_y": null,
            "padding": null,
            "right": null,
            "top": null,
            "visibility": null,
            "width": null
          }
        },
        "703c8c1e5d43466cbb3167ec376d80f0": {
          "model_module": "@jupyter-widgets/controls",
          "model_name": "DescriptionStyleModel",
          "model_module_version": "1.5.0",
          "state": {
            "_model_module": "@jupyter-widgets/controls",
            "_model_module_version": "1.5.0",
            "_model_name": "DescriptionStyleModel",
            "_view_count": null,
            "_view_module": "@jupyter-widgets/base",
            "_view_module_version": "1.2.0",
            "_view_name": "StyleView",
            "description_width": ""
          }
        },
        "6cfbac88dfcb49f9a412ba8d1eb45981": {
          "model_module": "@jupyter-widgets/controls",
          "model_name": "HBoxModel",
          "model_module_version": "1.5.0",
          "state": {
            "_dom_classes": [],
            "_model_module": "@jupyter-widgets/controls",
            "_model_module_version": "1.5.0",
            "_model_name": "HBoxModel",
            "_view_count": null,
            "_view_module": "@jupyter-widgets/controls",
            "_view_module_version": "1.5.0",
            "_view_name": "HBoxView",
            "box_style": "",
            "children": [
              "IPY_MODEL_fdec38351f7d4b4391a65745dd17a92e",
              "IPY_MODEL_be1733c0e35749569d36b89d6669427c",
              "IPY_MODEL_a97134ce863f4a0c8b5f3ea9881f8abc"
            ],
            "layout": "IPY_MODEL_a7622fb0aca94b1ab4b5e5f062da2d72"
          }
        },
        "fdec38351f7d4b4391a65745dd17a92e": {
          "model_module": "@jupyter-widgets/controls",
          "model_name": "HTMLModel",
          "model_module_version": "1.5.0",
          "state": {
            "_dom_classes": [],
            "_model_module": "@jupyter-widgets/controls",
            "_model_module_version": "1.5.0",
            "_model_name": "HTMLModel",
            "_view_count": null,
            "_view_module": "@jupyter-widgets/controls",
            "_view_module_version": "1.5.0",
            "_view_name": "HTMLView",
            "description": "",
            "description_tooltip": null,
            "layout": "IPY_MODEL_3a815e19f0434f51bde2109f1d2aed5d",
            "placeholder": "​",
            "style": "IPY_MODEL_1f2629dc7d024acbb6029204da699a8f",
            "value": "vocab.txt: 100%"
          }
        },
        "be1733c0e35749569d36b89d6669427c": {
          "model_module": "@jupyter-widgets/controls",
          "model_name": "FloatProgressModel",
          "model_module_version": "1.5.0",
          "state": {
            "_dom_classes": [],
            "_model_module": "@jupyter-widgets/controls",
            "_model_module_version": "1.5.0",
            "_model_name": "FloatProgressModel",
            "_view_count": null,
            "_view_module": "@jupyter-widgets/controls",
            "_view_module_version": "1.5.0",
            "_view_name": "ProgressView",
            "bar_style": "success",
            "description": "",
            "description_tooltip": null,
            "layout": "IPY_MODEL_e843499171f148cc8f37a45e42095fdd",
            "max": 231508,
            "min": 0,
            "orientation": "horizontal",
            "style": "IPY_MODEL_60f7793ddf6642fcabe97954a7a34b07",
            "value": 231508
          }
        },
        "a97134ce863f4a0c8b5f3ea9881f8abc": {
          "model_module": "@jupyter-widgets/controls",
          "model_name": "HTMLModel",
          "model_module_version": "1.5.0",
          "state": {
            "_dom_classes": [],
            "_model_module": "@jupyter-widgets/controls",
            "_model_module_version": "1.5.0",
            "_model_name": "HTMLModel",
            "_view_count": null,
            "_view_module": "@jupyter-widgets/controls",
            "_view_module_version": "1.5.0",
            "_view_name": "HTMLView",
            "description": "",
            "description_tooltip": null,
            "layout": "IPY_MODEL_3787f7b6d8464438b839213934e6a044",
            "placeholder": "​",
            "style": "IPY_MODEL_f2b4dccb0884421cb5c3d0a8566364f8",
            "value": " 232k/232k [00:00&lt;00:00, 1.81MB/s]"
          }
        },
        "a7622fb0aca94b1ab4b5e5f062da2d72": {
          "model_module": "@jupyter-widgets/base",
          "model_name": "LayoutModel",
          "model_module_version": "1.2.0",
          "state": {
            "_model_module": "@jupyter-widgets/base",
            "_model_module_version": "1.2.0",
            "_model_name": "LayoutModel",
            "_view_count": null,
            "_view_module": "@jupyter-widgets/base",
            "_view_module_version": "1.2.0",
            "_view_name": "LayoutView",
            "align_content": null,
            "align_items": null,
            "align_self": null,
            "border": null,
            "bottom": null,
            "display": null,
            "flex": null,
            "flex_flow": null,
            "grid_area": null,
            "grid_auto_columns": null,
            "grid_auto_flow": null,
            "grid_auto_rows": null,
            "grid_column": null,
            "grid_gap": null,
            "grid_row": null,
            "grid_template_areas": null,
            "grid_template_columns": null,
            "grid_template_rows": null,
            "height": null,
            "justify_content": null,
            "justify_items": null,
            "left": null,
            "margin": null,
            "max_height": null,
            "max_width": null,
            "min_height": null,
            "min_width": null,
            "object_fit": null,
            "object_position": null,
            "order": null,
            "overflow": null,
            "overflow_x": null,
            "overflow_y": null,
            "padding": null,
            "right": null,
            "top": null,
            "visibility": null,
            "width": null
          }
        },
        "3a815e19f0434f51bde2109f1d2aed5d": {
          "model_module": "@jupyter-widgets/base",
          "model_name": "LayoutModel",
          "model_module_version": "1.2.0",
          "state": {
            "_model_module": "@jupyter-widgets/base",
            "_model_module_version": "1.2.0",
            "_model_name": "LayoutModel",
            "_view_count": null,
            "_view_module": "@jupyter-widgets/base",
            "_view_module_version": "1.2.0",
            "_view_name": "LayoutView",
            "align_content": null,
            "align_items": null,
            "align_self": null,
            "border": null,
            "bottom": null,
            "display": null,
            "flex": null,
            "flex_flow": null,
            "grid_area": null,
            "grid_auto_columns": null,
            "grid_auto_flow": null,
            "grid_auto_rows": null,
            "grid_column": null,
            "grid_gap": null,
            "grid_row": null,
            "grid_template_areas": null,
            "grid_template_columns": null,
            "grid_template_rows": null,
            "height": null,
            "justify_content": null,
            "justify_items": null,
            "left": null,
            "margin": null,
            "max_height": null,
            "max_width": null,
            "min_height": null,
            "min_width": null,
            "object_fit": null,
            "object_position": null,
            "order": null,
            "overflow": null,
            "overflow_x": null,
            "overflow_y": null,
            "padding": null,
            "right": null,
            "top": null,
            "visibility": null,
            "width": null
          }
        },
        "1f2629dc7d024acbb6029204da699a8f": {
          "model_module": "@jupyter-widgets/controls",
          "model_name": "DescriptionStyleModel",
          "model_module_version": "1.5.0",
          "state": {
            "_model_module": "@jupyter-widgets/controls",
            "_model_module_version": "1.5.0",
            "_model_name": "DescriptionStyleModel",
            "_view_count": null,
            "_view_module": "@jupyter-widgets/base",
            "_view_module_version": "1.2.0",
            "_view_name": "StyleView",
            "description_width": ""
          }
        },
        "e843499171f148cc8f37a45e42095fdd": {
          "model_module": "@jupyter-widgets/base",
          "model_name": "LayoutModel",
          "model_module_version": "1.2.0",
          "state": {
            "_model_module": "@jupyter-widgets/base",
            "_model_module_version": "1.2.0",
            "_model_name": "LayoutModel",
            "_view_count": null,
            "_view_module": "@jupyter-widgets/base",
            "_view_module_version": "1.2.0",
            "_view_name": "LayoutView",
            "align_content": null,
            "align_items": null,
            "align_self": null,
            "border": null,
            "bottom": null,
            "display": null,
            "flex": null,
            "flex_flow": null,
            "grid_area": null,
            "grid_auto_columns": null,
            "grid_auto_flow": null,
            "grid_auto_rows": null,
            "grid_column": null,
            "grid_gap": null,
            "grid_row": null,
            "grid_template_areas": null,
            "grid_template_columns": null,
            "grid_template_rows": null,
            "height": null,
            "justify_content": null,
            "justify_items": null,
            "left": null,
            "margin": null,
            "max_height": null,
            "max_width": null,
            "min_height": null,
            "min_width": null,
            "object_fit": null,
            "object_position": null,
            "order": null,
            "overflow": null,
            "overflow_x": null,
            "overflow_y": null,
            "padding": null,
            "right": null,
            "top": null,
            "visibility": null,
            "width": null
          }
        },
        "60f7793ddf6642fcabe97954a7a34b07": {
          "model_module": "@jupyter-widgets/controls",
          "model_name": "ProgressStyleModel",
          "model_module_version": "1.5.0",
          "state": {
            "_model_module": "@jupyter-widgets/controls",
            "_model_module_version": "1.5.0",
            "_model_name": "ProgressStyleModel",
            "_view_count": null,
            "_view_module": "@jupyter-widgets/base",
            "_view_module_version": "1.2.0",
            "_view_name": "StyleView",
            "bar_color": null,
            "description_width": ""
          }
        },
        "3787f7b6d8464438b839213934e6a044": {
          "model_module": "@jupyter-widgets/base",
          "model_name": "LayoutModel",
          "model_module_version": "1.2.0",
          "state": {
            "_model_module": "@jupyter-widgets/base",
            "_model_module_version": "1.2.0",
            "_model_name": "LayoutModel",
            "_view_count": null,
            "_view_module": "@jupyter-widgets/base",
            "_view_module_version": "1.2.0",
            "_view_name": "LayoutView",
            "align_content": null,
            "align_items": null,
            "align_self": null,
            "border": null,
            "bottom": null,
            "display": null,
            "flex": null,
            "flex_flow": null,
            "grid_area": null,
            "grid_auto_columns": null,
            "grid_auto_flow": null,
            "grid_auto_rows": null,
            "grid_column": null,
            "grid_gap": null,
            "grid_row": null,
            "grid_template_areas": null,
            "grid_template_columns": null,
            "grid_template_rows": null,
            "height": null,
            "justify_content": null,
            "justify_items": null,
            "left": null,
            "margin": null,
            "max_height": null,
            "max_width": null,
            "min_height": null,
            "min_width": null,
            "object_fit": null,
            "object_position": null,
            "order": null,
            "overflow": null,
            "overflow_x": null,
            "overflow_y": null,
            "padding": null,
            "right": null,
            "top": null,
            "visibility": null,
            "width": null
          }
        },
        "f2b4dccb0884421cb5c3d0a8566364f8": {
          "model_module": "@jupyter-widgets/controls",
          "model_name": "DescriptionStyleModel",
          "model_module_version": "1.5.0",
          "state": {
            "_model_module": "@jupyter-widgets/controls",
            "_model_module_version": "1.5.0",
            "_model_name": "DescriptionStyleModel",
            "_view_count": null,
            "_view_module": "@jupyter-widgets/base",
            "_view_module_version": "1.2.0",
            "_view_name": "StyleView",
            "description_width": ""
          }
        },
        "a95b6d591f314f7488e15c84a9d5f405": {
          "model_module": "@jupyter-widgets/controls",
          "model_name": "HBoxModel",
          "model_module_version": "1.5.0",
          "state": {
            "_dom_classes": [],
            "_model_module": "@jupyter-widgets/controls",
            "_model_module_version": "1.5.0",
            "_model_name": "HBoxModel",
            "_view_count": null,
            "_view_module": "@jupyter-widgets/controls",
            "_view_module_version": "1.5.0",
            "_view_name": "HBoxView",
            "box_style": "",
            "children": [
              "IPY_MODEL_a67db268a96f42eaa569eb2f43045594",
              "IPY_MODEL_219cd3ae90c74d0d993d2c4cc015093d",
              "IPY_MODEL_c736cc8748694590ac976d4379277780"
            ],
            "layout": "IPY_MODEL_860fc970190d4d58a275c65acf1e37c3"
          }
        },
        "a67db268a96f42eaa569eb2f43045594": {
          "model_module": "@jupyter-widgets/controls",
          "model_name": "HTMLModel",
          "model_module_version": "1.5.0",
          "state": {
            "_dom_classes": [],
            "_model_module": "@jupyter-widgets/controls",
            "_model_module_version": "1.5.0",
            "_model_name": "HTMLModel",
            "_view_count": null,
            "_view_module": "@jupyter-widgets/controls",
            "_view_module_version": "1.5.0",
            "_view_name": "HTMLView",
            "description": "",
            "description_tooltip": null,
            "layout": "IPY_MODEL_66cec13b2d674713a14105a2648f44fa",
            "placeholder": "​",
            "style": "IPY_MODEL_900e397263ce4fc386376925bdd085e3",
            "value": "tokenizer.json: 100%"
          }
        },
        "219cd3ae90c74d0d993d2c4cc015093d": {
          "model_module": "@jupyter-widgets/controls",
          "model_name": "FloatProgressModel",
          "model_module_version": "1.5.0",
          "state": {
            "_dom_classes": [],
            "_model_module": "@jupyter-widgets/controls",
            "_model_module_version": "1.5.0",
            "_model_name": "FloatProgressModel",
            "_view_count": null,
            "_view_module": "@jupyter-widgets/controls",
            "_view_module_version": "1.5.0",
            "_view_name": "ProgressView",
            "bar_style": "success",
            "description": "",
            "description_tooltip": null,
            "layout": "IPY_MODEL_c5afb20c954d406a90fdebda9c45abe7",
            "max": 466062,
            "min": 0,
            "orientation": "horizontal",
            "style": "IPY_MODEL_4684ab3879bc4523b6e7b75e6f8146c5",
            "value": 466062
          }
        },
        "c736cc8748694590ac976d4379277780": {
          "model_module": "@jupyter-widgets/controls",
          "model_name": "HTMLModel",
          "model_module_version": "1.5.0",
          "state": {
            "_dom_classes": [],
            "_model_module": "@jupyter-widgets/controls",
            "_model_module_version": "1.5.0",
            "_model_name": "HTMLModel",
            "_view_count": null,
            "_view_module": "@jupyter-widgets/controls",
            "_view_module_version": "1.5.0",
            "_view_name": "HTMLView",
            "description": "",
            "description_tooltip": null,
            "layout": "IPY_MODEL_d455582bef6c4e10b50f6718a2c85569",
            "placeholder": "​",
            "style": "IPY_MODEL_a9f3ef8d205b41708c155aaefaa837b6",
            "value": " 466k/466k [00:00&lt;00:00, 1.91MB/s]"
          }
        },
        "860fc970190d4d58a275c65acf1e37c3": {
          "model_module": "@jupyter-widgets/base",
          "model_name": "LayoutModel",
          "model_module_version": "1.2.0",
          "state": {
            "_model_module": "@jupyter-widgets/base",
            "_model_module_version": "1.2.0",
            "_model_name": "LayoutModel",
            "_view_count": null,
            "_view_module": "@jupyter-widgets/base",
            "_view_module_version": "1.2.0",
            "_view_name": "LayoutView",
            "align_content": null,
            "align_items": null,
            "align_self": null,
            "border": null,
            "bottom": null,
            "display": null,
            "flex": null,
            "flex_flow": null,
            "grid_area": null,
            "grid_auto_columns": null,
            "grid_auto_flow": null,
            "grid_auto_rows": null,
            "grid_column": null,
            "grid_gap": null,
            "grid_row": null,
            "grid_template_areas": null,
            "grid_template_columns": null,
            "grid_template_rows": null,
            "height": null,
            "justify_content": null,
            "justify_items": null,
            "left": null,
            "margin": null,
            "max_height": null,
            "max_width": null,
            "min_height": null,
            "min_width": null,
            "object_fit": null,
            "object_position": null,
            "order": null,
            "overflow": null,
            "overflow_x": null,
            "overflow_y": null,
            "padding": null,
            "right": null,
            "top": null,
            "visibility": null,
            "width": null
          }
        },
        "66cec13b2d674713a14105a2648f44fa": {
          "model_module": "@jupyter-widgets/base",
          "model_name": "LayoutModel",
          "model_module_version": "1.2.0",
          "state": {
            "_model_module": "@jupyter-widgets/base",
            "_model_module_version": "1.2.0",
            "_model_name": "LayoutModel",
            "_view_count": null,
            "_view_module": "@jupyter-widgets/base",
            "_view_module_version": "1.2.0",
            "_view_name": "LayoutView",
            "align_content": null,
            "align_items": null,
            "align_self": null,
            "border": null,
            "bottom": null,
            "display": null,
            "flex": null,
            "flex_flow": null,
            "grid_area": null,
            "grid_auto_columns": null,
            "grid_auto_flow": null,
            "grid_auto_rows": null,
            "grid_column": null,
            "grid_gap": null,
            "grid_row": null,
            "grid_template_areas": null,
            "grid_template_columns": null,
            "grid_template_rows": null,
            "height": null,
            "justify_content": null,
            "justify_items": null,
            "left": null,
            "margin": null,
            "max_height": null,
            "max_width": null,
            "min_height": null,
            "min_width": null,
            "object_fit": null,
            "object_position": null,
            "order": null,
            "overflow": null,
            "overflow_x": null,
            "overflow_y": null,
            "padding": null,
            "right": null,
            "top": null,
            "visibility": null,
            "width": null
          }
        },
        "900e397263ce4fc386376925bdd085e3": {
          "model_module": "@jupyter-widgets/controls",
          "model_name": "DescriptionStyleModel",
          "model_module_version": "1.5.0",
          "state": {
            "_model_module": "@jupyter-widgets/controls",
            "_model_module_version": "1.5.0",
            "_model_name": "DescriptionStyleModel",
            "_view_count": null,
            "_view_module": "@jupyter-widgets/base",
            "_view_module_version": "1.2.0",
            "_view_name": "StyleView",
            "description_width": ""
          }
        },
        "c5afb20c954d406a90fdebda9c45abe7": {
          "model_module": "@jupyter-widgets/base",
          "model_name": "LayoutModel",
          "model_module_version": "1.2.0",
          "state": {
            "_model_module": "@jupyter-widgets/base",
            "_model_module_version": "1.2.0",
            "_model_name": "LayoutModel",
            "_view_count": null,
            "_view_module": "@jupyter-widgets/base",
            "_view_module_version": "1.2.0",
            "_view_name": "LayoutView",
            "align_content": null,
            "align_items": null,
            "align_self": null,
            "border": null,
            "bottom": null,
            "display": null,
            "flex": null,
            "flex_flow": null,
            "grid_area": null,
            "grid_auto_columns": null,
            "grid_auto_flow": null,
            "grid_auto_rows": null,
            "grid_column": null,
            "grid_gap": null,
            "grid_row": null,
            "grid_template_areas": null,
            "grid_template_columns": null,
            "grid_template_rows": null,
            "height": null,
            "justify_content": null,
            "justify_items": null,
            "left": null,
            "margin": null,
            "max_height": null,
            "max_width": null,
            "min_height": null,
            "min_width": null,
            "object_fit": null,
            "object_position": null,
            "order": null,
            "overflow": null,
            "overflow_x": null,
            "overflow_y": null,
            "padding": null,
            "right": null,
            "top": null,
            "visibility": null,
            "width": null
          }
        },
        "4684ab3879bc4523b6e7b75e6f8146c5": {
          "model_module": "@jupyter-widgets/controls",
          "model_name": "ProgressStyleModel",
          "model_module_version": "1.5.0",
          "state": {
            "_model_module": "@jupyter-widgets/controls",
            "_model_module_version": "1.5.0",
            "_model_name": "ProgressStyleModel",
            "_view_count": null,
            "_view_module": "@jupyter-widgets/base",
            "_view_module_version": "1.2.0",
            "_view_name": "StyleView",
            "bar_color": null,
            "description_width": ""
          }
        },
        "d455582bef6c4e10b50f6718a2c85569": {
          "model_module": "@jupyter-widgets/base",
          "model_name": "LayoutModel",
          "model_module_version": "1.2.0",
          "state": {
            "_model_module": "@jupyter-widgets/base",
            "_model_module_version": "1.2.0",
            "_model_name": "LayoutModel",
            "_view_count": null,
            "_view_module": "@jupyter-widgets/base",
            "_view_module_version": "1.2.0",
            "_view_name": "LayoutView",
            "align_content": null,
            "align_items": null,
            "align_self": null,
            "border": null,
            "bottom": null,
            "display": null,
            "flex": null,
            "flex_flow": null,
            "grid_area": null,
            "grid_auto_columns": null,
            "grid_auto_flow": null,
            "grid_auto_rows": null,
            "grid_column": null,
            "grid_gap": null,
            "grid_row": null,
            "grid_template_areas": null,
            "grid_template_columns": null,
            "grid_template_rows": null,
            "height": null,
            "justify_content": null,
            "justify_items": null,
            "left": null,
            "margin": null,
            "max_height": null,
            "max_width": null,
            "min_height": null,
            "min_width": null,
            "object_fit": null,
            "object_position": null,
            "order": null,
            "overflow": null,
            "overflow_x": null,
            "overflow_y": null,
            "padding": null,
            "right": null,
            "top": null,
            "visibility": null,
            "width": null
          }
        },
        "a9f3ef8d205b41708c155aaefaa837b6": {
          "model_module": "@jupyter-widgets/controls",
          "model_name": "DescriptionStyleModel",
          "model_module_version": "1.5.0",
          "state": {
            "_model_module": "@jupyter-widgets/controls",
            "_model_module_version": "1.5.0",
            "_model_name": "DescriptionStyleModel",
            "_view_count": null,
            "_view_module": "@jupyter-widgets/base",
            "_view_module_version": "1.2.0",
            "_view_name": "StyleView",
            "description_width": ""
          }
        }
      }
    }
  },
  "nbformat": 4,
  "nbformat_minor": 5
}